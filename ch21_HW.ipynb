import cv2
import numpy as np

img1 = cv2.imread('images.jpg')

drawing = False # true if mouse is pressed
mode = True # if True, draw rectangle. Press 'm' to toggle to curve
ix,iy = -1,-1
# mouse callback function
def Mouse_Drag(event,x,y,flags,param):
    global ix,iy,drawing,mode
    if event == cv2.EVENT_LBUTTONDOWN:
        drawing = False
        ix,iy = x,y

    elif event == cv2.EVENT_MOUSEMOVE:
        if drawing == True:
            if mode == True:
                cv2.rectangle(img1,(ix,iy),(x,y),(0,0,255),-1)
                ix,iy = x,y
        
    elif event == cv2.EVENT_LBUTTONUP:
        drawing = False
        if mode == True:
         cv2.rectangle(img1,(ix,iy),(x,y),(0,0,255),-1)
    

cv2.namedWindow('image')
cv2.setMouseCallback('image',Mouse_Drag)
while(1):
    cv2.imshow('image',img1)
    k = cv2.waitKey(1) & 0xFF
    if k == ord('m'):
        mode = not mode
    elif k == 27:
        break
cv2.waitKey(0)
cv2.destroyAllWindows()
